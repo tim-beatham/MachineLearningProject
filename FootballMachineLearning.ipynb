{
 "cells": [
  {
   "cell_type": "code",
   "execution_count": 71,
   "metadata": {},
   "outputs": [],
   "source": [
    "import csv\n",
    "import numpy as np\n",
    "\n",
    "header = []\n",
    "\n",
    "match_information = {}\n",
    "\n",
    "HOME_TEAM_INDEX = 2\n",
    "AWAY_TEAM_INDEX = 3\n",
    "\n",
    "matches = []\n",
    "\n",
    "\n",
    "def add_match(team, match):\n",
    "    if team.lower() in match_information.keys():\n",
    "        match_information[team.lower()].append(match)\n",
    "    else:\n",
    "        match_information[team.lower()] = [match]\n",
    "        \n",
    "heading_index_map = {}\n",
    "\n",
    "    \n",
    "\n",
    "with open('data/championship_18_19.csv', 'r') as csvfile:\n",
    "    match_reader = csv.reader(csvfile)\n",
    "    \n",
    "    header = next(match_reader)\n",
    "    \n",
    "    # Generate the heading index map.\n",
    "    heading_index_map = {heading: index for index, heading in enumerate(header)}\n",
    "    \n",
    "    for row in match_reader:\n",
    "        # Each row represents a single match that has been played.\n",
    "        matches.append(row)\n",
    "        temp_dict = {}\n",
    "        \n",
    "        \n",
    "        \n",
    "        # Loop through every row and add to the dictionary.\n",
    "        for colno, data_item in enumerate(row):\n",
    "            temp_dict[header[colno]] = data_item\n",
    "            \n",
    "        # Need to remove the bolton vs brentford match. This match did not take place.\n",
    "        if temp_dict['HomeTeam'].lower() != 'bolton' or temp_dict['AwayTeam'].lower() != 'brentford':     \n",
    "            # Add each match to both the home team and the away team.\n",
    "            add_match(row[HOME_TEAM_INDEX], temp_dict)\n",
    "            add_match(row[AWAY_TEAM_INDEX], temp_dict)"
   ]
  },
  {
   "cell_type": "code",
   "execution_count": 72,
   "metadata": {},
   "outputs": [
    {
     "name": "stdout",
     "output_type": "stream",
     "text": [
      "Leeds 3 - 1 Stoke\n",
      "Derby 1 - 4 Leeds\n",
      "Leeds 2 - 0 Rotherham\n",
      "Swansea 2 - 2 Leeds\n",
      "Norwich 0 - 3 Leeds\n",
      "Leeds 0 - 0 Middlesbrough\n",
      "Millwall 1 - 1 Leeds\n",
      "Leeds 3 - 0 Preston\n",
      "Leeds 1 - 2 Birmingham\n",
      "Sheffield Weds 1 - 1 Leeds\n",
      "Hull 0 - 1 Leeds\n",
      "Leeds 1 - 1 Brentford\n",
      "Blackburn 2 - 1 Leeds\n",
      "Leeds 2 - 0 Ipswich\n",
      "Leeds 1 - 1 Nott'm Forest\n",
      "Wigan 1 - 2 Leeds\n",
      "West Brom 4 - 1 Leeds\n",
      "Leeds 2 - 0 Bristol City\n",
      "Leeds 1 - 0 Reading\n",
      "Sheffield United 0 - 1 Leeds\n",
      "Leeds 2 - 1 QPR\n",
      "Bolton 0 - 1 Leeds\n",
      "Aston Villa 2 - 3 Leeds\n",
      "Leeds 3 - 2 Blackburn\n",
      "Leeds 0 - 2 Hull\n",
      "Nott'm Forest 4 - 2 Leeds\n",
      "Leeds 2 - 0 Derby\n",
      "Stoke 2 - 1 Leeds\n",
      "Rotherham 1 - 2 Leeds\n",
      "Leeds 1 - 3 Norwich\n",
      "Middlesbrough 1 - 1 Leeds\n",
      "Leeds 2 - 1 Swansea\n",
      "Leeds 2 - 1 Bolton\n",
      "QPR 1 - 0 Leeds\n",
      "Leeds 4 - 0 West Brom\n",
      "Bristol City 0 - 1 Leeds\n",
      "Reading 0 - 3 Leeds\n",
      "Leeds 0 - 1 Sheffield United\n",
      "Leeds 3 - 2 Millwall\n",
      "Birmingham 1 - 0 Leeds\n",
      "Preston 0 - 2 Leeds\n",
      "Leeds 1 - 0 Sheffield Weds\n",
      "Leeds 1 - 2 Wigan\n",
      "Brentford 2 - 0 Leeds\n",
      "Leeds 1 - 1 Aston Villa\n",
      "Ipswich 3 - 2 Leeds\n"
     ]
    }
   ],
   "source": [
    "# Let's display all of the Leeds matches.\n",
    "\n",
    "leeds_matches = match_information['leeds']\n",
    "\n",
    "for match in leeds_matches:\n",
    "    print(\"{home_team} {score_home} - {score_away} {away_team}\".format(home_team = match['HomeTeam'],\n",
    "                                                                       score_home = match['FTHG'],\n",
    "                                                                       score_away = match['FTAG'],\n",
    "                                                                       away_team = match['AwayTeam']))"
   ]
  },
  {
   "cell_type": "code",
   "execution_count": 73,
   "metadata": {},
   "outputs": [
    {
     "name": "stdout",
     "output_type": "stream",
     "text": [
      "List of all the referees in the Championship: {'L Mason', 'L Swabey', 'S Martin', 'R Joyce', 'A Davies', 'A Taylor', 'J Brooks', 'L Probert', 'D Bond', 'K Friend', 'T Harrington', 'J Linington', 'S Duncan', 'C Kavanagh', 'C Pawson', 'G Scott', 'D England', 'K Stroud', 'A Woolmer', 'R East', 'J Moss', 'A Madley', 'P Tierney', 'G Ward', 'S Hooper', 'S Attwell', 'T Robinson', 'R Jones', 'D Coote', 'J Simpson', 'P Bankes', 'M Dean', 'J Gillett', 'G Eltringham', 'J Duncan', 'O Langford', 'D Webb', 'J jBrooks'}\n"
     ]
    }
   ],
   "source": [
    "# Now I need a method which converts this information into a NumPy array.\n",
    "\n",
    "# I want to see how much an influence a Referee has in the game. But I need to find all the unique referees.\n",
    "# A set is the best way of achieving this.\n",
    "\n",
    "referees_string = set([])\n",
    "\n",
    "for team in match_information.values():\n",
    "        for match in team:\n",
    "            referees_string.add(match['Referee'])\n",
    "            \n",
    "# I probably won't use this but we shall see.\n",
    "print(\"List of all the referees in the Championship: \" + str(referees_string)) "
   ]
  },
  {
   "cell_type": "code",
   "execution_count": 74,
   "metadata": {},
   "outputs": [
    {
     "name": "stdout",
     "output_type": "stream",
     "text": [
      "{'Div': 0, 'Date': 1, 'HomeTeam': 2, 'AwayTeam': 3, 'FTHG': 4, 'FTAG': 5, 'FTR': 6, 'HTHG': 7, 'HTAG': 8, 'HTR': 9, 'Referee': 10, 'HS': 11, 'AS': 12, 'HST': 13, 'AST': 14, 'HF': 15, 'AF': 16, 'HC': 17, 'AC': 18, 'HY': 19, 'AY': 20, 'HR': 21, 'AR': 22, 'B365H': 23, 'B365D': 24, 'B365A': 25, 'BWH': 26, 'BWD': 27, 'BWA': 28, 'IWH': 29, 'IWD': 30, 'IWA': 31, 'PSH': 32, 'PSD': 33, 'PSA': 34, 'WHH': 35, 'WHD': 36, 'WHA': 37, 'VCH': 38, 'VCD': 39, 'VCA': 40, 'Bb1X2': 41, 'BbMxH': 42, 'BbAvH': 43, 'BbMxD': 44, 'BbAvD': 45, 'BbMxA': 46, 'BbAvA': 47, 'BbOU': 48, 'BbMx>2.5': 49, 'BbAv>2.5': 50, 'BbMx<2.5': 51, 'BbAv<2.5': 52, 'BbAH': 53, 'BbAHh': 54, 'BbMxAHH': 55, 'BbAvAHH': 56, 'BbMxAHA': 57, 'BbAvAHA': 58, 'PSCH': 59, 'PSCD': 60, 'PSCA': 61}\n"
     ]
    }
   ],
   "source": [
    "# Now I need to gather the information into a numpy array.\n",
    "print(heading_index_map)"
   ]
  },
  {
   "cell_type": "code",
   "execution_count": 91,
   "metadata": {},
   "outputs": [
    {
     "name": "stdout",
     "output_type": "stream",
     "text": [
      "[['8' '11' '5' ... '4' '0' '0']\n",
      " ['16' '16' '7' ... '3' '0' '0']\n",
      " ['14' '9' '10' ... '2' '0' '0']\n",
      " ...\n",
      " ['8' '16' '2' ... '2' '0' '0']\n",
      " ['14' '11' '4' ... '1' '0' '0']\n",
      " ['15' '10' '4' ... '0' '0' '0']]\n"
     ]
    }
   ],
   "source": [
    "# First of all there are three classes HomeWin, Draw, AwayWin.\n",
    "y_classes = {0: 'HomeWin', 1: 'AwayWin', 2:'Draw'}\n",
    "\n",
    "# Now we need to extract the relevant data from the matches list.\n",
    "X = []\n",
    "for match in matches:\n",
    "    X.append(match[heading_index_map['HS'] : heading_index_map['AR'] + 1])\n",
    "    \n",
    "X = np.array(X)\n",
    "\n",
    "print(X)"
   ]
  },
  {
   "cell_type": "code",
   "execution_count": 98,
   "metadata": {},
   "outputs": [],
   "source": [
    "# Now that we have produces X, we need to find the corresponding classes.\n",
    "Y = []\n",
    "\n",
    "for match in matches:\n",
    "    # Get the final result.\n",
    "    result = match[heading_index_map['FTR']]\n",
    "    \n",
    "    if result == 'H':\n",
    "        Y.append(0)\n",
    "    elif result == 'D':\n",
    "        Y.append(1)\n",
    "    else:\n",
    "        Y.append(2)\n",
    "        \n",
    "Y = np.array(Y)"
   ]
  },
  {
   "cell_type": "code",
   "execution_count": 100,
   "metadata": {},
   "outputs": [],
   "source": [
    "# We have the X and the Y we can now produce a model for the data.\n"
   ]
  },
  {
   "cell_type": "code",
   "execution_count": null,
   "metadata": {},
   "outputs": [],
   "source": []
  }
 ],
 "metadata": {
  "kernelspec": {
   "display_name": "ml",
   "language": "python",
   "name": "ml"
  },
  "language_info": {
   "codemirror_mode": {
    "name": "ipython",
    "version": 3
   },
   "file_extension": ".py",
   "mimetype": "text/x-python",
   "name": "python",
   "nbconvert_exporter": "python",
   "pygments_lexer": "ipython3",
   "version": "3.8.3"
  }
 },
 "nbformat": 4,
 "nbformat_minor": 4
}
