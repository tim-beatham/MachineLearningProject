{
 "cells": [
  {
   "cell_type": "code",
   "execution_count": 134,
   "metadata": {},
   "outputs": [
    {
     "name": "stdout",
     "output_type": "stream",
     "text": [
      "8277\n",
      "5732\n",
      "5066\n"
     ]
    }
   ],
   "source": [
    "import csv\n",
    "import numpy as np\n",
    "import sklearn as sj\n",
    "import matplotlib.pyplot as plt\n",
    "import numpy as np\n",
    "from sklearn.linear_model import LogisticRegression\n",
    "from sklearn.model_selection import train_test_split\n",
    "import os\n",
    "from os import path\n",
    "from matplotlib import pyplot\n",
    "import IPython\n",
    "import random\n",
    "from collections import OrderedDict\n",
    "\n",
    "header = []\n",
    "\n",
    "match_information = {}\n",
    "\n",
    "HOME_TEAM_INDEX = 2\n",
    "AWAY_TEAM_INDEX = 3\n",
    "\n",
    "matches = []\n",
    "\n",
    "data = ['data/championship_18_19.csv', 'data/1.csv', 'data/2.csv', 'data/3.csv', 'data/4.csv', 'data/5.csv', \n",
    "        'data/6.csv', 'data/7.csv', 'data/8.csv', 'data/9.csv', 'data/pl_2014.csv', 'data/10.csv',\n",
    "       'data/11.csv', 'data/12.csv', 'data/13.csv', 'data/14.csv', 'data/15.csv', 'data/16.csv', 'data/17.csv', \n",
    "       'data/11.csv', 'data/12.csv', 'data/13.csv', 'data/14.csv', 'data/15.csv', 'data/16.csv', 'data/17.csv', \n",
    "       'data/18.csv', 'data/19.csv', 'data/20.csv', 'data/21.csv', 'data/22.csv', 'data/23.csv', 'data/24.csv',\n",
    "       'data/25.csv', 'data/26.csv', 'data/27.csv', 'data/28.csv', 'data/29.csv', 'data/30.csv', 'data/31.csv',\n",
    "       'data/32.csv', 'data/33.csv']  \n",
    "\n",
    "def add_match(team, match):\n",
    "    if team.lower() in match_information.keys():\n",
    "        match_information[team.lower()].append(match)\n",
    "    else:\n",
    "        match_information[team.lower()] = [match]\n",
    "        \n",
    "\n",
    "\n",
    "def get_heading(path):\n",
    "    with open(path, 'r') as csvfile:\n",
    "        match_reader = csv.reader(csvfile)\n",
    "        \n",
    "        header = next(match_reader)\n",
    "\n",
    "    # Generate the heading index map.\n",
    "    return OrderedDict({heading: index for index, heading in enumerate(header)})\n",
    "\n",
    "heading_index_map = get_heading(data[0])\n",
    "\n",
    "home_team_wins = []\n",
    "away_team_wins = []\n",
    "draws = []\n",
    "\n",
    "\n",
    "def read_database(path, home_teams_wins, away_team_wins, draws , match_information):\n",
    "    with open(path, 'r') as csvfile:\n",
    "        match_reader = csv.reader(csvfile)\n",
    "    \n",
    "        header = next(match_reader)\n",
    "\n",
    "        for row in match_reader:\n",
    "\n",
    "            temp_dict = OrderedDict()\n",
    "\n",
    "            flag = False\n",
    "            \n",
    "\n",
    "            # Loop through every row and add to the dictionary.\n",
    "            for colno, data_item in enumerate(row):\n",
    "                temp_dict[header[colno]] = data_item\n",
    "                \n",
    "            \n",
    "                if not data_item:\n",
    "            \n",
    "                    flag = True\n",
    "                    \n",
    "            if flag:\n",
    "                continue\n",
    "             \n",
    "     \n",
    "            # Need to remove the bolton vs brentford match. This match did not take place.\n",
    "            if temp_dict['HomeTeam'].lower() != 'bolton' or temp_dict['AwayTeam'].lower() != 'brentford':     \n",
    "                # Add each match to both the home team and the away team.\n",
    "                add_match(row[HOME_TEAM_INDEX], temp_dict)\n",
    "                add_match(row[AWAY_TEAM_INDEX], temp_dict)\n",
    "\n",
    "                # Each row represents a single match that has been played.\n",
    "                # Need to insert the match into the relevant list.\n",
    "                if row[heading_index_map['FTR']] == 'H':\n",
    "                    home_team_wins.append(row)\n",
    "                elif row[heading_index_map['FTR']] == 'A':\n",
    "                     away_team_wins.append(row)\n",
    "                elif row[heading_index_map['FTR'] == 'D']:\n",
    "                     draws.append(row)\n",
    "                \n",
    "\n",
    "        return (home_team_wins, away_team_wins, draws, match_information)\n",
    "                \n",
    "              \n",
    "\n",
    "for data_item in data:\n",
    "    home_team_wins, away_team_wins, draws, match_information = read_database(data_item, \n",
    "                                                        home_team_wins, away_team_wins, draws, match_information)\n",
    "    \n",
    "    \n",
    "print(len(home_team_wins))\n",
    "print(len(away_team_wins))\n",
    "print(len(draws))\n",
    "\n",
    "# Now we need to shuffle each list.\n",
    "random.shuffle(home_team_wins)\n",
    "random.shuffle(away_team_wins)\n",
    "random.shuffle(draws)\n",
    "\n",
    "\n",
    "smallest = min(len(home_team_wins), len(away_team_wins), len(draws))\n",
    "\n",
    "# Now we have the smallest we need to merge into one list.\n",
    "matches = home_team_wins[:smallest] + away_team_wins[:smallest] + draws[:smallest]\n"
   ]
  },
  {
   "cell_type": "code",
   "execution_count": 135,
   "metadata": {},
   "outputs": [
    {
     "data": {
      "text/plain": [
       "'leeds_matches = match_information[\\'leeds\\']\\n\\nfor match in leeds_matches:\\n    print(\"{home_team} {score_home} - {score_away} {away_team}\".format(home_team = match[\\'HomeTeam\\'],\\n                                                                       score_home = match[\\'FTHG\\'],\\n                                                                       score_away = match[\\'FTAG\\'],\\n                                                                       away_team = match[\\'AwayTeam\\']))\\n                                                                       \\n                                                                       \\n'"
      ]
     },
     "execution_count": 135,
     "metadata": {},
     "output_type": "execute_result"
    }
   ],
   "source": [
    "# Let's display all of the Leeds matches.https://stackoverflow.com/questions/9573244/how-to-check-if-the-string-is-empty\n",
    "\n",
    "\"\"\"leeds_matches = match_information['leeds']\n",
    "\n",
    "for match in leeds_matches:\n",
    "    print(\"{home_team} {score_home} - {score_away} {away_team}\".format(home_team = match['HomeTeam'],\n",
    "                                                                       score_home = match['FTHG'],\n",
    "                                                                       score_away = match['FTAG'],\n",
    "                                                                       away_team = match['AwayTeam']))\n",
    "                                                                       \n",
    "                                                                       \n",
    "\"\"\""
   ]
  },
  {
   "cell_type": "code",
   "execution_count": 156,
   "metadata": {},
   "outputs": [
    {
     "ename": "KeyError",
     "evalue": "'Referee'",
     "output_type": "error",
     "traceback": [
      "\u001b[0;31m---------------------------------------------------------------------------\u001b[0m",
      "\u001b[0;31mKeyError\u001b[0m                                  Traceback (most recent call last)",
      "\u001b[0;32m<ipython-input-156-3e9ba5e97475>\u001b[0m in \u001b[0;36m<module>\u001b[0;34m\u001b[0m\n\u001b[1;32m      7\u001b[0m \u001b[0;32mfor\u001b[0m \u001b[0mteam\u001b[0m \u001b[0;32min\u001b[0m \u001b[0mmatch_information\u001b[0m\u001b[0;34m.\u001b[0m\u001b[0mvalues\u001b[0m\u001b[0;34m(\u001b[0m\u001b[0;34m)\u001b[0m\u001b[0;34m:\u001b[0m\u001b[0;34m\u001b[0m\u001b[0;34m\u001b[0m\u001b[0m\n\u001b[1;32m      8\u001b[0m         \u001b[0;32mfor\u001b[0m \u001b[0mmatch\u001b[0m \u001b[0;32min\u001b[0m \u001b[0mteam\u001b[0m\u001b[0;34m:\u001b[0m\u001b[0;34m\u001b[0m\u001b[0;34m\u001b[0m\u001b[0m\n\u001b[0;32m----> 9\u001b[0;31m             \u001b[0mreferees_string\u001b[0m\u001b[0;34m.\u001b[0m\u001b[0madd\u001b[0m\u001b[0;34m(\u001b[0m\u001b[0mmatch\u001b[0m\u001b[0;34m[\u001b[0m\u001b[0;34m'Referee'\u001b[0m\u001b[0;34m]\u001b[0m\u001b[0;34m)\u001b[0m\u001b[0;34m\u001b[0m\u001b[0;34m\u001b[0m\u001b[0m\n\u001b[0m\u001b[1;32m     10\u001b[0m \u001b[0;34m\u001b[0m\u001b[0m\n\u001b[1;32m     11\u001b[0m \u001b[0;31m# I probably won't use this but we shall see.\u001b[0m\u001b[0;34m\u001b[0m\u001b[0;34m\u001b[0m\u001b[0;34m\u001b[0m\u001b[0m\n",
      "\u001b[0;31mKeyError\u001b[0m: 'Referee'"
     ]
    }
   ],
   "source": [
    "# Now I need a method which converts this information into a NumPy array.\n",
    "\n",
    "# I want to see how much an influence a Referee has in the game. But I need to find all the unique referees.\n",
    "# A set is the best way of achieving this.\n",
    "\n",
    "referees_string = set([])\n",
    "for team in match_information.values():\n",
    "        for match in team:\n",
    "            referees_string.add(match['Referee'])\n",
    "            \n",
    "# I probably won't use this but we shall see.\n",
    "print(\"List of all the referees in the Championship: \" + str(referees_string)) "
   ]
  },
  {
   "cell_type": "code",
   "execution_count": 157,
   "metadata": {},
   "outputs": [
    {
     "name": "stdout",
     "output_type": "stream",
     "text": [
      "OrderedDict([('Div', 0), ('Date', 1), ('HomeTeam', 2), ('AwayTeam', 3), ('FTHG', 4), ('FTAG', 5), ('FTR', 6), ('HTHG', 7), ('HTAG', 8), ('HTR', 9), ('Referee', 10), ('HS', 11), ('AS', 12), ('HST', 13), ('AST', 14), ('HF', 15), ('AF', 16), ('HC', 17), ('AC', 18), ('HY', 19), ('AY', 20), ('HR', 21), ('AR', 22), ('B365H', 23), ('B365D', 24), ('B365A', 25), ('BWH', 26), ('BWD', 27), ('BWA', 28), ('IWH', 29), ('IWD', 30), ('IWA', 31), ('PSH', 32), ('PSD', 33), ('PSA', 34), ('WHH', 35), ('WHD', 36), ('WHA', 37), ('VCH', 38), ('VCD', 39), ('VCA', 40), ('Bb1X2', 41), ('BbMxH', 42), ('BbAvH', 43), ('BbMxD', 44), ('BbAvD', 45), ('BbMxA', 46), ('BbAvA', 47), ('BbOU', 48), ('BbMx>2.5', 49), ('BbAv>2.5', 50), ('BbMx<2.5', 51), ('BbAv<2.5', 52), ('BbAH', 53), ('BbAHh', 54), ('BbMxAHH', 55), ('BbAvAHH', 56), ('BbMxAHA', 57), ('BbAvAHA', 58), ('PSCH', 59), ('PSCD', 60), ('PSCA', 61)])\n"
     ]
    }
   ],
   "source": [
    "# Now I need to gather the information into a numpy array.\n",
    "print(heading_index_map)"
   ]
  },
  {
   "cell_type": "code",
   "execution_count": 158,
   "metadata": {},
   "outputs": [
    {
     "name": "stdout",
     "output_type": "stream",
     "text": [
      "[[14. 11.  8. ...  0.  0.  1.]\n",
      " [ 7.  6.  4. ...  1.  0.  0.]\n",
      " [16.  9.  5. ...  3.  0.  0.]\n",
      " ...\n",
      " [12. 10.  6. ...  3.  0.  0.]\n",
      " [12.  8.  6. ...  4.  0.  0.]\n",
      " [ 8.  7.  5. ...  2.  0.  0.]]\n",
      "(15198, 90)\n"
     ]
    }
   ],
   "source": [
    "# First of all there are three classes HomeWin, Draw, AwayWin.\n",
    "y_classes = {0: 'HomeWin', 1: 'AwayWin', 2:'Draw'}\n",
    "\n",
    "# Now we need to extract the relevant data from the matches list.\n",
    "X = []\n",
    "for match in matches:\n",
    "    X.append((match[heading_index_map['HS'] : heading_index_map['AR'] + 1]))\n",
    "             \n",
    "X = np.array(X)\n",
    "\n",
    "X = X.astype(np.float)\n",
    "\n",
    "print(X)\n",
    "\n",
    "# Convert X so all elements are floats\n",
    "\n",
    "\n",
    "X_copy = np.array(X, copy=True)\n",
    "\n",
    "# Multiplying columns of X together.\n",
    "# Iterate over the columns\n",
    "for index, column in enumerate(X_copy.T):\n",
    "    # Need to create new columns by multiplying two columns together.\n",
    "    \n",
    "    for mul_index in range(index, X_copy.shape[1]):\n",
    "        new_col = np.multiply(X_copy[:, index], X_copy[:, mul_index])\n",
    "        new_col = np.reshape(new_col, (-1,1))\n",
    "        X = np.append(X, new_col, axis=1)\n",
    "\n",
    "          \n",
    "print(X.shape)"
   ]
  },
  {
   "cell_type": "code",
   "execution_count": 159,
   "metadata": {},
   "outputs": [],
   "source": [
    "# Now that we have produces X, we need to find the corresponding classes.\n",
    "Y = []\n",
    "\n",
    "for match in matches:\n",
    "    # Get the final result.\n",
    "    result = match[heading_index_map['FTR']]\n",
    "    \n",
    "    if result == 'H':\n",
    "        Y.append(0)\n",
    "    elif result == 'A':\n",
    "        Y.append(1)\n",
    "    elif result == 'D':\n",
    "        Y.append(2)\n",
    "        \n",
    "Y = np.array(Y)"
   ]
  },
  {
   "cell_type": "code",
   "execution_count": 160,
   "metadata": {},
   "outputs": [
    {
     "name": "stdout",
     "output_type": "stream",
     "text": [
      "[[17. 13. 14. ...  0.  0.  0.]\n",
      " [24. 15.  9. ...  0.  0.  0.]\n",
      " [ 8.  6.  1. ...  0.  0.  0.]\n",
      " ...\n",
      " [12.  7.  2. ...  0.  0.  0.]\n",
      " [11.  2.  1. ...  0.  0.  1.]\n",
      " [ 6.  4.  2. ...  0.  0.  0.]]\n",
      "[0 1 1 ... 0 0 0]\n"
     ]
    }
   ],
   "source": [
    "# We have the X and the Y we can now produce a model for the data.\n",
    "X_train, X_test, y_train, y_test = train_test_split(X, Y)\n",
    "\n",
    "print(X_train)\n",
    "print(y_train)\n",
    "\n",
    "log_reg = LogisticRegression(max_iter=10000, C=100, penalty='l1', solver='liblinear').fit(X_train, y_train)"
   ]
  },
  {
   "cell_type": "code",
   "execution_count": 161,
   "metadata": {},
   "outputs": [
    {
     "name": "stdout",
     "output_type": "stream",
     "text": [
      "Training set score: 0.523\n"
     ]
    }
   ],
   "source": [
    "print(\"Training set score: {:.3f}\".format(log_reg.score(X_train, y_train)))"
   ]
  },
  {
   "cell_type": "code",
   "execution_count": 162,
   "metadata": {},
   "outputs": [
    {
     "name": "stdout",
     "output_type": "stream",
     "text": [
      "Test set score: 0.511\n"
     ]
    }
   ],
   "source": [
    "print(\"Test set score: {:.3f}\".format(log_reg.score(X_test, y_test)))"
   ]
  },
  {
   "cell_type": "code",
   "execution_count": 168,
   "metadata": {},
   "outputs": [],
   "source": [
    "# Let's plot feature importance.\n",
    "importance = log_reg.coef_[0]"
   ]
  },
  {
   "cell_type": "code",
   "execution_count": 173,
   "metadata": {},
   "outputs": [
    {
     "data": {
      "image/png": "[encoded data removed]",
      "text/plain": [
       "<Figure size 1440x1080 with 1 Axes>"
      ]
     },
     "metadata": {
      "needs_background": "light"
     },
     "output_type": "display_data"
    }
   ],
   "source": [
    "relevant_features = importance[:12]\n",
    "\n",
    "\n",
    "fig, ax = plt.subplots(figsize=(20, 15))\n",
    "labels = list(heading_index_map.keys())[heading_index_map['HS']:heading_index_map['AR'] + 1]\n",
    "\n",
    "\n",
    "pyplot.bar(labels, abs(relevant_features))\n",
    "plt.show()"
   ]
  },
  {
   "cell_type": "code",
   "execution_count": null,
   "metadata": {},
   "outputs": [],
   "source": []
  },
  {
   "cell_type": "code",
   "execution_count": 171,
   "metadata": {},
   "outputs": [
    {
     "name": "stdout",
     "output_type": "stream",
     "text": [
      "HomeWin\n",
      "[[0.67260334 0.13492893 0.19246774]]\n",
      "AwayWin\n",
      "[[0.02372662 0.78826541 0.18800797]]\n"
     ]
    }
   ],
   "source": [
    "def make_prediction(stats):\n",
    "    np_stats = np.array(stats, dtype=np.float)\n",
    "    \n",
    "    np_stats = np.reshape(np_stats, (-1, 1)).T\n",
    "    \n",
    "    np_stats_copy = np.array(np_stats, copy=True)\n",
    "    \n",
    "    # Multiplying columns of X together.\n",
    "    # Iterate over the columns\n",
    "    for index, column in enumerate(np_stats_copy.T):\n",
    "        # Need to create new columns by multiplying two columns together.\n",
    "\n",
    "        for mul_index in range(index, np_stats_copy.shape[1]):\n",
    "            new_col = np.multiply(np_stats_copy[:, index], np_stats_copy[:, mul_index])\n",
    "            new_col = np.reshape(new_col, (-1,1))\n",
    "            np_stats = np.append(np_stats, new_col, axis=1)\n",
    "            \n",
    "\n",
    "    print(y_classes[log_reg.predict(np_stats)[0]])\n",
    "\n",
    "    print(log_reg.predict_proba(np_stats))\n",
    "    \n",
    "    \n",
    "make_prediction([15, 8, 7, 4, 9, 12, 1, 5, 0, 1, 0, 0])\n",
    "\n",
    "make_prediction([14, 13, 2, 7, 9, 8, 10, 7, 1, 2, 1, 0])"
   ]
  }
 ],
 "metadata": {
  "kernelspec": {
   "display_name": "ml",
   "language": "python",
   "name": "ml"
  },
  "language_info": {
   "codemirror_mode": {
    "name": "ipython",
    "version": 3
   },
   "file_extension": ".py",
   "mimetype": "text/x-python",
   "name": "python",
   "nbconvert_exporter": "python",
   "pygments_lexer": "ipython3",
   "version": "3.8.3"
  }
 },
 "nbformat": 4,
 "nbformat_minor": 4
}
