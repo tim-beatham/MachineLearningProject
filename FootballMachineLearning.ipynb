{
 "cells": [
  {
   "cell_type": "code",
   "execution_count": 478,
   "metadata": {},
   "outputs": [],
   "source": [
    "import csv\n",
    "import numpy as np\n",
    "import sklearn as sj\n",
    "import matplotlib.pyplot as plt\n",
    "import numpy as np\n",
    "from sklearn.linear_model import LogisticRegression\n",
    "from sklearn.model_selection import train_test_split\n",
    "import os\n",
    "from os import path\n",
    "from matplotlib import pyplot\n",
    "import IPython\n",
    "\n",
    "header = []\n",
    "\n",
    "match_information = {}\n",
    "\n",
    "HOME_TEAM_INDEX = 2\n",
    "AWAY_TEAM_INDEX = 3\n",
    "\n",
    "matches = []\n",
    "\n",
    "data = ['data/championship_18_19.csv', 'data/1.csv', 'data/2.csv', 'data/3.csv', 'data/4.csv', 'data/5.csv', 'data/6.csv', 'data/7.csv', 'data/8.csv', 'data/9.csv', 'data/pl_2014.csv', 'data/10.csv'] \n",
    "       \n",
    "\"\"\"'data/11.csv', 'data/12.csv', 'data/13.csv', 'data/14.csv', 'data/15.csv', 'data/16.csv', 'data/17.csv', \n",
    "   'data/18.csv', 'data/19.csv', 'data/20.csv', 'data/21.csv', 'data/22.csv', 'data/23.csv', 'data/24.csv',\n",
    "   'data/25.csv', 'data/26.csv', 'data/27.csv', 'data/28.csv', 'data/29.csv', 'data/30.csv', 'data/31.csv',\n",
    "   'data/32.csv', 'data/33.csv']  \"\"\"\n",
    "\n",
    "def add_match(team, match):\n",
    "    if team.lower() in match_information.keys():\n",
    "        match_information[team.lower()].append(match)\n",
    "    else:\n",
    "        match_information[team.lower()] = [match]\n",
    "        \n",
    "\n",
    "\n",
    "def get_heading(path):\n",
    "    with open(path, 'r') as csvfile:\n",
    "        match_reader = csv.reader(csvfile)\n",
    "        \n",
    "        header = next(match_reader)\n",
    "\n",
    "    # Generate the heading index map.\n",
    "    return {heading: index for index, heading in enumerate(header)}\n",
    "\n",
    "heading_index_map = get_heading(data[0])\n",
    "\n",
    "\n",
    "def read_database(path, matches, match_information):\n",
    "    with open(path, 'r') as csvfile:\n",
    "        match_reader = csv.reader(csvfile)\n",
    "    \n",
    "        header = next(match_reader)\n",
    "\n",
    "        for row in match_reader:\n",
    "\n",
    "            temp_dict = {}\n",
    "\n",
    "            flag = False\n",
    "            \n",
    "\n",
    "            # Loop through every row and add to the dictionary.\n",
    "            for colno, data_item in enumerate(row):\n",
    "                temp_dict[header[colno]] = data_item\n",
    "                \n",
    "            \n",
    "                if not data_item:\n",
    "            \n",
    "                    flag = True\n",
    "                    \n",
    "            if flag:\n",
    "                continue\n",
    "             \n",
    "     \n",
    "            # Need to remove the bolton vs brentford match. This match did not take place.\n",
    "            if temp_dict['HomeTeam'].lower() != 'bolton' or temp_dict['AwayTeam'].lower() != 'brentford':     \n",
    "                # Add each match to both the home team and the away team.\n",
    "                add_match(row[HOME_TEAM_INDEX], temp_dict)\n",
    "                add_match(row[AWAY_TEAM_INDEX], temp_dict)\n",
    "\n",
    "                # Each row represents a single match that has been played.\n",
    "                matches.append(row)\n",
    "                \n",
    "\n",
    "        return (matches, match_information)\n",
    "                \n",
    "              \n",
    "\n",
    "for data_item in data:\n",
    "    matches, match_information = read_database(data_item, matches, match_information)\n",
    "    \n",
    "    \n",
    "                \n"
   ]
  },
  {
   "cell_type": "code",
   "execution_count": 479,
   "metadata": {},
   "outputs": [
    {
     "data": {
      "text/plain": [
       "'leeds_matches = match_information[\\'leeds\\']\\n\\nfor match in leeds_matches:\\n    print(\"{home_team} {score_home} - {score_away} {away_team}\".format(home_team = match[\\'HomeTeam\\'],\\n                                                                       score_home = match[\\'FTHG\\'],\\n                                                                       score_away = match[\\'FTAG\\'],\\n                                                                       away_team = match[\\'AwayTeam\\']))\\n                                                                       \\n                                                                       \\n'"
      ]
     },
     "execution_count": 479,
     "metadata": {},
     "output_type": "execute_result"
    }
   ],
   "source": [
    "# Let's display all of the Leeds matches.https://stackoverflow.com/questions/9573244/how-to-check-if-the-string-is-empty\n",
    "\n",
    "\"\"\"leeds_matches = match_information['leeds']\n",
    "\n",
    "for match in leeds_matches:\n",
    "    print(\"{home_team} {score_home} - {score_away} {away_team}\".format(home_team = match['HomeTeam'],\n",
    "                                                                       score_home = match['FTHG'],\n",
    "                                                                       score_away = match['FTAG'],\n",
    "                                                                       away_team = match['AwayTeam']))\n",
    "                                                                       \n",
    "                                                                       \n",
    "\"\"\""
   ]
  },
  {
   "cell_type": "code",
   "execution_count": 420,
   "metadata": {},
   "outputs": [
    {
     "ename": "KeyError",
     "evalue": "'Referee'",
     "output_type": "error",
     "traceback": [
      "\u001b[0;31m---------------------------------------------------------------------------\u001b[0m",
      "\u001b[0;31mKeyError\u001b[0m                                  Traceback (most recent call last)",
      "\u001b[0;32m<ipython-input-420-3e9ba5e97475>\u001b[0m in \u001b[0;36m<module>\u001b[0;34m\u001b[0m\n\u001b[1;32m      7\u001b[0m \u001b[0;32mfor\u001b[0m \u001b[0mteam\u001b[0m \u001b[0;32min\u001b[0m \u001b[0mmatch_information\u001b[0m\u001b[0;34m.\u001b[0m\u001b[0mvalues\u001b[0m\u001b[0;34m(\u001b[0m\u001b[0;34m)\u001b[0m\u001b[0;34m:\u001b[0m\u001b[0;34m\u001b[0m\u001b[0;34m\u001b[0m\u001b[0m\n\u001b[1;32m      8\u001b[0m         \u001b[0;32mfor\u001b[0m \u001b[0mmatch\u001b[0m \u001b[0;32min\u001b[0m \u001b[0mteam\u001b[0m\u001b[0;34m:\u001b[0m\u001b[0;34m\u001b[0m\u001b[0;34m\u001b[0m\u001b[0m\n\u001b[0;32m----> 9\u001b[0;31m             \u001b[0mreferees_string\u001b[0m\u001b[0;34m.\u001b[0m\u001b[0madd\u001b[0m\u001b[0;34m(\u001b[0m\u001b[0mmatch\u001b[0m\u001b[0;34m[\u001b[0m\u001b[0;34m'Referee'\u001b[0m\u001b[0;34m]\u001b[0m\u001b[0;34m)\u001b[0m\u001b[0;34m\u001b[0m\u001b[0;34m\u001b[0m\u001b[0m\n\u001b[0m\u001b[1;32m     10\u001b[0m \u001b[0;34m\u001b[0m\u001b[0m\n\u001b[1;32m     11\u001b[0m \u001b[0;31m# I probably won't use this but we shall see.\u001b[0m\u001b[0;34m\u001b[0m\u001b[0;34m\u001b[0m\u001b[0;34m\u001b[0m\u001b[0m\n",
      "\u001b[0;31mKeyError\u001b[0m: 'Referee'"
     ]
    }
   ],
   "source": [
    "# Now I need a method which converts this information into a NumPy array.\n",
    "\n",
    "# I want to see how much an influence a Referee has in the game. But I need to find all the unique referees.\n",
    "# A set is the best way of achieving this.\n",
    "\n",
    "referees_string = set([])\n",
    "for team in match_information.values():\n",
    "        for match in team:\n",
    "            referees_string.add(match['Referee'])\n",
    "            \n",
    "# I probably won't use this but we shall see.\n",
    "print(\"List of all the referees in the Championship: \" + str(referees_string)) "
   ]
  },
  {
   "cell_type": "code",
   "execution_count": 480,
   "metadata": {},
   "outputs": [
    {
     "name": "stdout",
     "output_type": "stream",
     "text": [
      "{'Div': 0, 'Date': 1, 'HomeTeam': 2, 'AwayTeam': 3, 'FTHG': 4, 'FTAG': 5, 'FTR': 6, 'HTHG': 7, 'HTAG': 8, 'HTR': 9, 'Referee': 10, 'HS': 11, 'AS': 12, 'HST': 13, 'AST': 14, 'HF': 15, 'AF': 16, 'HC': 17, 'AC': 18, 'HY': 19, 'AY': 20, 'HR': 21, 'AR': 22, 'B365H': 23, 'B365D': 24, 'B365A': 25, 'BWH': 26, 'BWD': 27, 'BWA': 28, 'IWH': 29, 'IWD': 30, 'IWA': 31, 'PSH': 32, 'PSD': 33, 'PSA': 34, 'WHH': 35, 'WHD': 36, 'WHA': 37, 'VCH': 38, 'VCD': 39, 'VCA': 40, 'Bb1X2': 41, 'BbMxH': 42, 'BbAvH': 43, 'BbMxD': 44, 'BbAvD': 45, 'BbMxA': 46, 'BbAvA': 47, 'BbOU': 48, 'BbMx>2.5': 49, 'BbAv>2.5': 50, 'BbMx<2.5': 51, 'BbAv<2.5': 52, 'BbAH': 53, 'BbAHh': 54, 'BbMxAHH': 55, 'BbAvAHH': 56, 'BbMxAHA': 57, 'BbAvAHA': 58, 'PSCH': 59, 'PSCD': 60, 'PSCA': 61}\n"
     ]
    }
   ],
   "source": [
    "# Now I need to gather the information into a numpy array.\n",
    "print(heading_index_map)"
   ]
  },
  {
   "cell_type": "code",
   "execution_count": 537,
   "metadata": {},
   "outputs": [
    {
     "name": "stdout",
     "output_type": "stream",
     "text": [
      "[[ 8.   11.    5.   ...  3.6   3.3   2.25]\n",
      " [16.   16.    7.   ...  2.6   3.3   3.  ]\n",
      " [14.    9.   10.   ...  1.5   4.75  7.  ]\n",
      " ...\n",
      " [10.   10.    3.   ...  1.44  4.75  8.5 ]\n",
      " [11.   17.    3.   ...  2.2   3.5   3.5 ]\n",
      " [17.   16.    8.   ...  2.25  3.75  3.2 ]]\n",
      "(5445, 135)\n"
     ]
    }
   ],
   "source": [
    "# First of all there are three classes HomeWin, Draw, AwayWin.\n",
    "y_classes = {0: 'HomeWin', 1: 'AwayWin', 2:'Draw'}\n",
    "\n",
    "# Now we need to extract the relevant data from the matches list.\n",
    "X = []\n",
    "for match in matches:\n",
    "    X.append((match[heading_index_map['HS'] : heading_index_map['B365A'] + 1]))\n",
    "             \n",
    "X = np.array(X)\n",
    "\n",
    "X = X.astype(np.float)\n",
    "\n",
    "print(X)\n",
    "\n",
    "# Convert X so all elements are floats\n",
    "\n",
    "\n",
    "X_copy = np.array(X, copy=True)\n",
    "\n",
    "# Multiplying columns of X together.\n",
    "# Iterate over the columns\n",
    "for index, column in enumerate(X_copy.T):\n",
    "    # Need to create new columns by multiplying two columns together.\n",
    "    \n",
    "    for mul_index in range(index, X_copy.shape[1]):\n",
    "        new_col = np.multiply(X_copy[:, index], X_copy[:, mul_index])\n",
    "        new_col = np.reshape(new_col, (-1,1))\n",
    "        X = np.append(X, new_col, axis=1)\n",
    "\n",
    "          \n",
    "print(X.shape)"
   ]
  },
  {
   "cell_type": "code",
   "execution_count": 538,
   "metadata": {},
   "outputs": [],
   "source": [
    "# Now that we have produces X, we need to find the corresponding classes.\n",
    "Y = []\n",
    "\n",
    "for match in matches:\n",
    "    # Get the final result.\n",
    "    result = match[heading_index_map['FTR']]\n",
    "    \n",
    "    if result == 'H':\n",
    "        Y.append(0)\n",
    "    elif result == 'A':\n",
    "        Y.append(1)\n",
    "    else:\n",
    "        Y.append(2)\n",
    "        \n",
    "Y = np.array(Y)"
   ]
  },
  {
   "cell_type": "code",
   "execution_count": 541,
   "metadata": {},
   "outputs": [
    {
     "name": "stdout",
     "output_type": "stream",
     "text": [
      "[[ 13.       6.       4.     ...  10.5625   7.735    5.6644]\n",
      " [ 14.       8.       1.     ...  12.25    14.      16.    ]\n",
      " [ 12.       8.       7.     ...  12.25    13.3     14.44  ]\n",
      " ...\n",
      " [ 14.       8.       4.     ...  11.56    11.05    10.5625]\n",
      " [ 12.       6.       2.     ...  30.25    82.5    225.    ]\n",
      " [ 18.       2.      10.     ...   4.84     7.48    11.56  ]]\n",
      "[2 2 2 ... 0 0 1]\n"
     ]
    }
   ],
   "source": [
    "# We have the X and the Y we can now produce a model for the data.\n",
    "X_train, X_test, y_train, y_test = train_test_split(X, Y)\n",
    "\n",
    "print(X_train)\n",
    "print(y_train)\n",
    "\n",
    "log_reg = LogisticRegression(max_iter=10000, C=100, penalty='l2', solver='liblinear').fit(X_train, y_train)"
   ]
  },
  {
   "cell_type": "code",
   "execution_count": 542,
   "metadata": {},
   "outputs": [
    {
     "name": "stdout",
     "output_type": "stream",
     "text": [
      "Training set score: 0.591\n"
     ]
    }
   ],
   "source": [
    "print(\"Training set score: {:.3f}\".format(log_reg.score(X_train, y_train)))"
   ]
  },
  {
   "cell_type": "code",
   "execution_count": 543,
   "metadata": {},
   "outputs": [
    {
     "name": "stdout",
     "output_type": "stream",
     "text": [
      "Test set score: 0.552\n"
     ]
    }
   ],
   "source": [
    "print(\"Test set score: {:.3f}\".format(log_reg.score(X_test, y_test)))"
   ]
  },
  {
   "cell_type": "code",
   "execution_count": 544,
   "metadata": {},
   "outputs": [
    {
     "name": "stdout",
     "output_type": "stream",
     "text": [
      "[ 16.       8.      10.       2.      11.       7.      15.       2.\n",
      "   3.       3.       0.       1.       1.36     5.25     9.5    256.\n",
      " 128.     160.      32.     176.     112.     240.      32.      48.\n",
      "  48.       0.      16.      21.76    84.     152.      64.      80.\n",
      "  16.      88.      56.     120.      16.      24.      24.       0.\n",
      "   8.      10.88    42.      76.     100.      20.     110.      70.\n",
      " 150.      20.      30.      30.       0.      10.      13.6     52.5\n",
      "  95.       4.      22.      14.      30.       4.       6.       6.\n",
      "   0.       2.       2.72    10.5     19.     121.      77.     165.\n",
      "  22.      33.      33.       0.      11.      14.96    57.75   104.5\n",
      "  49.     105.      14.      21.      21.       0.       7.       9.52\n",
      "  36.75    66.5    225.      30.      45.      45.       0.      15.\n",
      "  20.4     78.75   142.5      4.       6.       6.       0.       2.\n",
      "   2.72    10.5     19.       9.       9.       0.       3.       4.08\n",
      "  15.75    28.5      9.       0.       3.       4.08    15.75    28.5\n",
      "   0.       0.       0.       0.       0.       1.       1.36     5.25\n",
      "   9.5      1.8496   7.14    12.92    27.5625  49.875   90.25  ]\n",
      "(135,)\n"
     ]
    },
    {
     "data": {
      "text/plain": [
       "array([0])"
      ]
     },
     "execution_count": 544,
     "metadata": {},
     "output_type": "execute_result"
    }
   ],
   "source": [
    "# Get the leeds wigan game.\n",
    "print(X[505])\n",
    "\n",
    "leeds_wigan = X[505]\n",
    "print(leeds_wigan.shape)\n",
    "\n",
    "leeds_wigan = np.reshape(leeds_wigan, (-1, 1))\n",
    "\n",
    "\n",
    "log_reg.predict(leeds_wigan.T)\n",
    "\n"
   ]
  },
  {
   "cell_type": "code",
   "execution_count": 510,
   "metadata": {},
   "outputs": [
    {
     "name": "stdout",
     "output_type": "stream",
     "text": [
      "HomeWin\n"
     ]
    },
    {
     "data": {
      "text/plain": [
       "array([[0.67876379, 0.22032576, 0.10091045]])"
      ]
     },
     "execution_count": 510,
     "metadata": {},
     "output_type": "execute_result"
    }
   ],
   "source": [
    "print(y_classes[log_reg.predict(leeds_wigan.T)[0]])\n",
    "\n",
    "log_reg.predict_proba(leeds_wigan.T)"
   ]
  },
  {
   "cell_type": "code",
   "execution_count": 497,
   "metadata": {},
   "outputs": [
    {
     "name": "stdout",
     "output_type": "stream",
     "text": [
      "Feature: 0, Score: 0.00314\n",
      "Feature: 1, Score: -0.07453\n",
      "Feature: 2, Score: -0.47396\n",
      "Feature: 3, Score: 0.35642\n",
      "Feature: 4, Score: -0.06762\n",
      "Feature: 5, Score: 0.03049\n",
      "Feature: 6, Score: 0.11488\n",
      "Feature: 7, Score: -0.18805\n",
      "Feature: 8, Score: 0.46589\n",
      "Feature: 9, Score: -0.90018\n",
      "Feature: 10, Score: 4.07507\n",
      "Feature: 11, Score: -1.52063\n",
      "Feature: 12, Score: 0.52477\n",
      "Feature: 13, Score: -1.87432\n",
      "Feature: 14, Score: 0.30120\n",
      "Feature: 15, Score: 0.00251\n",
      "Feature: 16, Score: 0.00497\n",
      "Feature: 17, Score: -0.00474\n",
      "Feature: 18, Score: -0.00235\n",
      "Feature: 19, Score: -0.00221\n",
      "Feature: 20, Score: 0.00417\n",
      "Feature: 21, Score: 0.00296\n",
      "Feature: 22, Score: -0.00500\n",
      "Feature: 23, Score: 0.00246\n",
      "Feature: 24, Score: -0.01413\n",
      "Feature: 25, Score: 0.20619\n",
      "Feature: 26, Score: -0.05606\n",
      "Feature: 27, Score: 0.04624\n",
      "Feature: 28, Score: -0.06511\n",
      "Feature: 29, Score: 0.02594\n",
      "Feature: 30, Score: 0.00173\n",
      "Feature: 31, Score: -0.01259\n",
      "Feature: 32, Score: 0.00187\n",
      "Feature: 33, Score: 0.00326\n",
      "Feature: 34, Score: -0.00429\n",
      "Feature: 35, Score: -0.00108\n",
      "Feature: 36, Score: -0.00028\n",
      "Feature: 37, Score: -0.01379\n",
      "Feature: 38, Score: -0.00142\n",
      "Feature: 39, Score: 0.02776\n",
      "Feature: 40, Score: -0.04584\n",
      "Feature: 41, Score: -0.02109\n",
      "Feature: 42, Score: 0.04220\n",
      "Feature: 43, Score: -0.02489\n",
      "Feature: 44, Score: 0.00845\n",
      "Feature: 45, Score: 0.03143\n",
      "Feature: 46, Score: -0.00608\n",
      "Feature: 47, Score: -0.00040\n",
      "Feature: 48, Score: 0.01151\n",
      "Feature: 49, Score: 0.00221\n",
      "Feature: 50, Score: 0.00964\n",
      "Feature: 51, Score: 0.01441\n",
      "Feature: 52, Score: -0.24725\n",
      "Feature: 53, Score: 0.18798\n",
      "Feature: 54, Score: -0.08285\n",
      "Feature: 55, Score: 0.14335\n",
      "Feature: 56, Score: -0.07412\n",
      "Feature: 57, Score: -0.01691\n",
      "Feature: 58, Score: -0.00032\n",
      "Feature: 59, Score: 0.00788\n",
      "Feature: 60, Score: -0.01139\n",
      "Feature: 61, Score: -0.01563\n",
      "Feature: 62, Score: -0.01310\n",
      "Feature: 63, Score: 0.02986\n",
      "Feature: 64, Score: 0.02007\n",
      "Feature: 65, Score: -0.04469\n",
      "Feature: 66, Score: 0.01586\n",
      "Feature: 67, Score: -0.01522\n",
      "Feature: 68, Score: 0.01569\n",
      "Feature: 69, Score: -0.00174\n",
      "Feature: 70, Score: 0.00270\n",
      "Feature: 71, Score: 0.00272\n",
      "Feature: 72, Score: -0.00455\n",
      "Feature: 73, Score: 0.00916\n",
      "Feature: 74, Score: 0.00302\n",
      "Feature: 75, Score: 0.04576\n",
      "Feature: 76, Score: 0.01396\n",
      "Feature: 77, Score: 0.01165\n",
      "Feature: 78, Score: 0.00754\n",
      "Feature: 79, Score: 0.00614\n",
      "Feature: 80, Score: 0.00014\n",
      "Feature: 81, Score: -0.00732\n",
      "Feature: 82, Score: 0.00676\n",
      "Feature: 83, Score: -0.02663\n",
      "Feature: 84, Score: 0.01725\n",
      "Feature: 85, Score: -0.08035\n",
      "Feature: 86, Score: 0.01325\n",
      "Feature: 87, Score: -0.01579\n",
      "Feature: 88, Score: 0.01715\n",
      "Feature: 89, Score: -0.02338\n",
      "Feature: 90, Score: -0.00303\n",
      "Feature: 91, Score: 0.00357\n",
      "Feature: 92, Score: -0.01129\n",
      "Feature: 93, Score: 0.00429\n",
      "Feature: 94, Score: -0.04924\n",
      "Feature: 95, Score: -0.07803\n",
      "Feature: 96, Score: 0.05177\n",
      "Feature: 97, Score: -0.05952\n",
      "Feature: 98, Score: 0.04115\n",
      "Feature: 99, Score: 0.00252\n",
      "Feature: 100, Score: 0.01747\n",
      "Feature: 101, Score: -0.00481\n",
      "Feature: 102, Score: -0.06145\n",
      "Feature: 103, Score: 0.13686\n",
      "Feature: 104, Score: -0.02181\n",
      "Feature: 105, Score: 0.04982\n",
      "Feature: 106, Score: -0.00321\n",
      "Feature: 107, Score: 0.01735\n",
      "Feature: 108, Score: 0.03668\n",
      "Feature: 109, Score: 0.05741\n",
      "Feature: 110, Score: 0.11902\n",
      "Feature: 111, Score: -0.17955\n",
      "Feature: 112, Score: 0.06325\n",
      "Feature: 113, Score: -0.01385\n",
      "Feature: 114, Score: 0.01120\n",
      "Feature: 115, Score: -0.08635\n",
      "Feature: 116, Score: 0.07688\n",
      "Feature: 117, Score: -0.08678\n",
      "Feature: 118, Score: 0.23066\n",
      "Feature: 119, Score: -0.00801\n",
      "Feature: 120, Score: -0.14652\n",
      "Feature: 121, Score: -0.79389\n",
      "Feature: 122, Score: -0.18024\n",
      "Feature: 123, Score: -0.89437\n",
      "Feature: 124, Score: 0.03045\n",
      "Feature: 125, Score: 0.10477\n",
      "Feature: 126, Score: -0.04044\n",
      "Feature: 127, Score: 0.09225\n",
      "Feature: 128, Score: 0.01205\n",
      "Feature: 129, Score: 0.02918\n",
      "Feature: 130, Score: 0.02290\n",
      "Feature: 131, Score: -0.10377\n",
      "Feature: 132, Score: 0.09053\n",
      "Feature: 133, Score: -0.02554\n",
      "Feature: 134, Score: 0.00015\n"
     ]
    }
   ],
   "source": [
    "# Let's plot feature importance.\n",
    "importance = log_reg.coef_[0]\n",
    "\n",
    "for i,v in enumerate(importance):\n",
    "    print('Feature: %0d, Score: %.5f' % (i,v))\n",
    "    \n",
    "  \n"
   ]
  },
  {
   "cell_type": "code",
   "execution_count": 512,
   "metadata": {},
   "outputs": [
    {
     "name": "stdout",
     "output_type": "stream",
     "text": [
      "[ 3.13777947e-03 -7.45283498e-02 -4.73955431e-01  3.56422438e-01\n",
      " -6.76162578e-02  3.04887484e-02  1.14877689e-01 -1.88052670e-01\n",
      "  4.65890900e-01 -9.00184892e-01  4.07506530e+00 -1.52063406e+00\n",
      "  5.24771110e-01 -1.87431822e+00  3.01203402e-01  2.51247586e-03\n",
      "  4.97233091e-03 -4.74027812e-03 -2.34835291e-03 -2.20885200e-03\n",
      "  4.17278573e-03  2.95942877e-03 -5.00123093e-03  2.46049373e-03\n",
      " -1.41338740e-02  2.06193642e-01 -5.60632762e-02  4.62382685e-02\n",
      " -6.51108835e-02  2.59405292e-02  1.72903827e-03 -1.25856383e-02\n",
      "  1.87307479e-03  3.25703991e-03 -4.29315241e-03 -1.08085652e-03\n",
      " -2.77846210e-04 -1.37867938e-02 -1.42257305e-03  2.77649739e-02\n",
      " -4.58446902e-02 -2.10925040e-02  4.21986631e-02 -2.48894278e-02\n",
      "  8.44896927e-03  3.14276582e-02 -6.08050020e-03 -4.04835622e-04\n",
      "  1.15140580e-02  2.20605673e-03  9.63780395e-03  1.44107045e-02\n",
      " -2.47250041e-01  1.87977614e-01 -8.28452600e-02  1.43354471e-01\n",
      " -7.41240487e-02 -1.69139877e-02 -3.23125810e-04  7.88054490e-03\n",
      " -1.13914754e-02 -1.56270645e-02 -1.31041409e-02  2.98649229e-02\n",
      "  2.00663045e-02 -4.46915751e-02  1.58581237e-02 -1.52203088e-02\n",
      "  1.56940973e-02 -1.73752701e-03  2.70242780e-03  2.72072449e-03\n",
      " -4.55076167e-03  9.15543915e-03  3.02474111e-03  4.57624757e-02\n",
      "  1.39605208e-02  1.16496537e-02  7.54226126e-03  6.14405987e-03\n",
      "  1.39458528e-04 -7.32105258e-03  6.76008220e-03 -2.66349240e-02\n",
      "  1.72452457e-02 -8.03484992e-02  1.32472383e-02 -1.57851312e-02\n",
      "  1.71538636e-02 -2.33827907e-02 -3.03029206e-03  3.56625989e-03\n",
      " -1.12860811e-02  4.29454689e-03 -4.92397158e-02 -7.80327294e-02\n",
      "  5.17679214e-02 -5.95200067e-02  4.11531111e-02  2.52372489e-03\n",
      "  1.74661539e-02 -4.81315305e-03 -6.14460068e-02  1.36856591e-01\n",
      " -2.18083480e-02  4.98240673e-02 -3.21156240e-03  1.73479157e-02\n",
      "  3.66774272e-02  5.74116895e-02  1.19021017e-01 -1.79550233e-01\n",
      "  6.32508350e-02 -1.38521984e-02  1.12030165e-02 -8.63543759e-02\n",
      "  7.68795344e-02 -8.67795214e-02  2.30655474e-01 -8.00984054e-03\n",
      " -1.46516934e-01 -7.93891117e-01 -1.80235585e-01 -8.94370136e-01\n",
      "  3.04501779e-02  1.04765111e-01 -4.04416397e-02  9.22471096e-02\n",
      "  1.20515085e-02  2.91772596e-02  2.29018405e-02 -1.03768118e-01\n",
      "  9.05283378e-02 -2.55380592e-02  1.53668263e-04]\n"
     ]
    },
    {
     "data": {
      "image/png": "[encoded data removed]",
      "text/plain": [
       "<Figure size 432x288 with 1 Axes>"
      ]
     },
     "metadata": {
      "needs_background": "light"
     },
     "output_type": "display_data"
    }
   ],
   "source": [
    "print(importance)\n",
    "\n",
    "pyplot.bar([x for x in range(len(importance))], abs(importance))\n",
    "plt.show()"
   ]
  },
  {
   "cell_type": "code",
   "execution_count": null,
   "metadata": {},
   "outputs": [],
   "source": []
  },
  {
   "cell_type": "code",
   "execution_count": null,
   "metadata": {},
   "outputs": [],
   "source": []
  }
 ],
 "metadata": {
  "kernelspec": {
   "display_name": "ml",
   "language": "python",
   "name": "ml"
  },
  "language_info": {
   "codemirror_mode": {
    "name": "ipython",
    "version": 3
   },
   "file_extension": ".py",
   "mimetype": "text/x-python",
   "name": "python",
   "nbconvert_exporter": "python",
   "pygments_lexer": "ipython3",
   "version": "3.8.3"
  }
 },
 "nbformat": 4,
 "nbformat_minor": 4
}
