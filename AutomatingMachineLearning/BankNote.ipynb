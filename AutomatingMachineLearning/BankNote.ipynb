{
 "cells": [
  {
   "cell_type": "code",
   "execution_count": 46,
   "metadata": {},
   "outputs": [
    {
     "name": "stdout",
     "output_type": "stream",
     "text": [
      "Score: 0.99\n",
      "Score: 1.00\n",
      "Score: 0.82\n",
      "Score: 0.78\n"
     ]
    },
    {
     "data": {
      "text/plain": [
       "\"\\nlbc2 = LogisticBinaryClassification()\\nlbc2.read_data('data/diabetes.csv')\\nlbc2.format_data()\\nlbc2.train()    \\n\""
      ]
     },
     "execution_count": 46,
     "metadata": {},
     "output_type": "execute_result"
    },
    {
     "data": {
      "image/png": "[encoded data removed]",
      "text/plain": [
       "<Figure size 1440x360 with 2 Axes>"
      ]
     },
     "metadata": {
      "needs_background": "light"
     },
     "output_type": "display_data"
    }
   ],
   "source": [
    "import csv\n",
    "from sklearn.model_selection import train_test_split\n",
    "import random\n",
    "import numpy as np\n",
    "from sklearn.linear_model import LogisticRegression\n",
    "from sklearn.neural_network import MLPClassifier\n",
    "import matplotlib.pyplot as plt\n",
    "\n",
    "\n",
    "# Assumes that the csv file has no header.\n",
    "class LogisticBinaryClassification:\n",
    "    \"\"\"Class that automates Logistic regression\"\"\"\n",
    "    \"\"\"Assumes the class is at the very end of the data.\"\"\"\n",
    "    \n",
    "    def __init__(self):        \n",
    "        self.negative_class = []\n",
    "        self.positive_class = []   \n",
    "        \n",
    "        self.dataset = []\n",
    "        self.X_data = []\n",
    "        self.Y_data = [] \n",
    "        \n",
    "        self.lgr = None\n",
    "        \n",
    "    def read_data(self, path):\n",
    "        with open(path, 'r', encoding='utf-8') as csv_file:\n",
    "            \n",
    "            csv_reader = csv.reader(csv_file)\n",
    "            \n",
    "            for row in csv_reader:\n",
    "                if row[-1] == '0':\n",
    "                    self.negative_class.append(row)\n",
    "                else:\n",
    "                    self.positive_class.append(row)\n",
    "         \n",
    "        # Now that we have got our data we can convert it get the number of groups\n",
    "        # Shuffle the groups\n",
    "        random.shuffle(self.negative_class)\n",
    "        random.shuffle(self.positive_class)\n",
    "        \n",
    "        \n",
    "        # Now we can collate the dataset.\n",
    "        size_dataset = min(len(self.negative_class), len(self.positive_class))\n",
    "        self.dataset = self.negative_class[:size_dataset] + self.positive_class[:size_dataset]       \n",
    "\n",
    "        \n",
    "    def format_data(self):\n",
    "        \"\"\"Formats the dataset into X and Y numpy arrays\"\"\"\n",
    "        self.X_data = np.array([row[:-1] for row in self.dataset], dtype='float')\n",
    "        self.Y_data = np.array([row[-1] for row in self.dataset], dtype='int')\n",
    "        \n",
    "    def train(self):\n",
    "        \"\"\"Makes a prediction based on the data in the class\"\"\"\n",
    "        X_train, X_test, y_train, y_test = train_test_split(self.X_data, self.Y_data)\n",
    "        \n",
    "        self.lgr = LogisticRegression(max_iter=1000).fit(X_train, y_train)\n",
    "        \n",
    "        mean_train = X_train.mean(axis=0)\n",
    "        \n",
    "        std_train = X_train.std(axis=0)\n",
    "        \n",
    "        X_train_scaled = (X_train - mean_train) / std_train\n",
    "        \n",
    "        X_test_scaled = (X_test - mean_train) / std_train\n",
    "        \n",
    "        self.neural_network = MLPClassifier(activation='logistic', \n",
    "                                            max_iter=1000).fit(X_train_scaled, y_train)        \n",
    "        \n",
    "        print(\"Score: {:.2f}\".format(self.lgr.score(X_train, y_train)))\n",
    "        print(\"Score: {:.2f}\".format(self.lgr.score(X_test, y_test)))\n",
    "                \n",
    "        print(\"Score: {:.2f}\".format(self.neural_network.score(X_train, y_train)))\n",
    "        print(\"Score: {:.2f}\".format(self.neural_network.score(X_test, y_test))) \n",
    "        \n",
    "        plt.figure(figsize=(20,5))\n",
    "        plt.imshow(self.neural_network.coefs_[0], interpolation='none', cmap='viridis')\n",
    "        plt.xlabel(\"Columns in weight matrix\")\n",
    "        plt.colorbar()\n",
    "        \n",
    "        \n",
    "    def predict(self, data):\n",
    "        \"\"\"Predicts the outcome based on data returns the class.\"\"\"\n",
    "        features = np.array(data, dtype='float').reshape((-1,1)).T\n",
    "        return self.lgr.predict(features)[0]      \n",
    "\n",
    "    \n",
    "lbc = LogisticBinaryClassification()\n",
    "lbc.read_data('data/data_banknote_authentication.csv')\n",
    "lbc.format_data()               \n",
    "lbc.train()\n",
    "lbc.predict([1.6426, 3.0149, 0.22849, -0.147])\n",
    "\n",
    "\"\"\"\n",
    "lbc2 = LogisticBinaryClassification()\n",
    "lbc2.read_data('data/diabetes.csv')\n",
    "lbc2.format_data()\n",
    "lbc2.train()    \n",
    "\"\"\"    \n",
    "                \n",
    "        \n",
    "        \n",
    "        \n"
   ]
  },
  {
   "cell_type": "code",
   "execution_count": null,
   "metadata": {},
   "outputs": [],
   "source": []
  },
  {
   "cell_type": "code",
   "execution_count": null,
   "metadata": {},
   "outputs": [],
   "source": []
  },
  {
   "cell_type": "code",
   "execution_count": null,
   "metadata": {},
   "outputs": [],
   "source": []
  },
  {
   "cell_type": "code",
   "execution_count": null,
   "metadata": {},
   "outputs": [],
   "source": []
  }
 ],
 "metadata": {
  "kernelspec": {
   "display_name": "ml",
   "language": "python",
   "name": "ml"
  },
  "language_info": {
   "codemirror_mode": {
    "name": "ipython",
    "version": 3
   },
   "file_extension": ".py",
   "mimetype": "text/x-python",
   "name": "python",
   "nbconvert_exporter": "python",
   "pygments_lexer": "ipython3",
   "version": "3.8.3"
  }
 },
 "nbformat": 4,
 "nbformat_minor": 4
}
